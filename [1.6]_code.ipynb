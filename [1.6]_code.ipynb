{
 "cells": [
  {
   "cell_type": "code",
   "execution_count": null,
   "id": "c47e81db-de47-4b47-bc6b-1e6aae999d7b",
   "metadata": {},
   "outputs": [],
   "source": [
    "import numpy as np\n",
    "# Defining the matrix\n",
    "def pureQR(matrixInput):\n",
    "    holderA = matrixInput;\n",
    "    for n in range(0,5):\n",
    "        print(\"Iteration\", n + 1,\":\");\n",
    "        Q, R = np.linalg.qr(holderA);\n",
    "        newA = np.matmul(R, Q);\n",
    "        print(newA);\n",
    "        holderA = np.round(newA, 2);\n",
    "    print(\"The matrix after 5 iteration\");\n",
    "    print(np.round(holderA, 2));\n",
    "\n",
    "A = np.array(\n",
    "    [[2, 3],\n",
    "     [2, 1]]\n",
    ");\n",
    "B = np.array(\n",
    "    [[1, 1], \n",
    "     [2, 1]]\n",
    ");\n",
    "C = np.array(\n",
    "    [[1, 0, -1], \n",
    "     [1, 2, 1], \n",
    "     [-4, 0, 1]]\n",
    ");\n",
    "D = np.array(\n",
    "    [[1, 1, -1], \n",
    "     [0, 2, 0], \n",
    "     [-2, 4, 2]]\n",
    ")\n",
    "pureQR(A);"
   ]
  }
 ],
 "metadata": {
  "kernelspec": {
   "display_name": "Python 3 (ipykernel)",
   "language": "python",
   "name": "python3"
  },
  "language_info": {
   "codemirror_mode": {
    "name": "ipython",
    "version": 3
   },
   "file_extension": ".py",
   "mimetype": "text/x-python",
   "name": "python",
   "nbconvert_exporter": "python",
   "pygments_lexer": "ipython3",
   "version": "3.11.9"
  }
 },
 "nbformat": 4,
 "nbformat_minor": 5
}
