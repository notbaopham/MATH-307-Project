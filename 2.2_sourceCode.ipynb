{
 "cells": [
  {
   "cell_type": "code",
   "execution_count": null,
   "id": "91b75e52-81e7-4657-9bfa-dd3a64062397",
   "metadata": {},
   "outputs": [],
   "source": [
    "import numpy as np\n",
    "from PIL import Image\n",
    "import matplotlib.pyplot as plt\n",
    "\n",
    "\"\"\"\n",
    "    The function compressImage accepts 4 parameters:\n",
    "        imageURI: The URI of the image to be compressed\n",
    "        nMax: The maximum number of n do you want to reach\n",
    "        nSpace: The number of n iterations to be skipped - if you want all n to be shown, nSpace = 1\n",
    "        This function will output in the plt.plot slot all of the images with their perspective n, and for comparison, the orginal\n",
    "        image will be shown at the top\n",
    "\"\"\"\n",
    "\n",
    "\n",
    "def compressImage(imageURI, nMin, nMax, nSpace):\n",
    "    if nMin >= nMax:\n",
    "        print(\"Please enter an nMin that is at least larger than nMax by nSpace\")\n",
    "        return\n",
    "    elif nMax <= 0 or nMin <= 0:\n",
    "        print(\"Please enter an nMin or nMax that is larger than 0\")\n",
    "        return\n",
    "    elif nSpace <= 0:\n",
    "        print(\"Please enter an nSpace that is greater than 0\")\n",
    "        return\n",
    "    else:\n",
    "        # Open the image and converting it into grayscale\n",
    "        image = Image.open(imageURI)\n",
    "        imageGrayed = image.convert('LA')\n",
    "\n",
    "        # For comparison purposes, the original image is shown\n",
    "        plt.figure(figsize=(9, 6))\n",
    "        plt.imshow(imageGrayed)\n",
    "        plt.show()\n",
    "\n",
    "        # Converting into a numpy array\n",
    "        imageMatrix = np.array(list(imageGrayed.getdata(band=0)), float)\n",
    "        imageMatrix.shape = (imageGrayed.size[1], imageGrayed.size[0])\n",
    "        imageMatrix = np.matrix(imageMatrix)\n",
    "\n",
    "        # Computing the SVD of the image\n",
    "        U, S, Vt = np.linalg.svd(imageMatrix)\n",
    "\n",
    "        # For doing iterations of increasingly n = recommend to space them out, or they will crash - python does not\n",
    "        # handle storing multiple plt.plot efficiently\n",
    "        for i in range(nMin, nMax, nSpace):\n",
    "            compressedImage = np.matrix(U[:, :i]) * np.diag(S[:i]) * np.matrix(Vt[:i, :])\n",
    "            plt.imshow(compressedImage, cmap='gray')\n",
    "            title = \"n = %s\" % i\n",
    "            plt.title(title)\n",
    "            plt.show()\n",
    "\n",
    "\n",
    "# Recommended settings:\n",
    "compressImage(\"member1.png\", 5, 51, 5)"
   ]
  }
 ],
 "metadata": {
  "kernelspec": {
   "display_name": "Python 3 (ipykernel)",
   "language": "python",
   "name": "python3"
  },
  "language_info": {
   "codemirror_mode": {
    "name": "ipython",
    "version": 3
   },
   "file_extension": ".py",
   "mimetype": "text/x-python",
   "name": "python",
   "nbconvert_exporter": "python",
   "pygments_lexer": "ipython3",
   "version": "3.11.9"
  }
 },
 "nbformat": 4,
 "nbformat_minor": 5
}
